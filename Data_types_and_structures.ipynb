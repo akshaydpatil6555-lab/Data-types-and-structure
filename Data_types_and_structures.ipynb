{
  "nbformat": 4,
  "nbformat_minor": 0,
  "metadata": {
    "colab": {
      "provenance": []
    },
    "kernelspec": {
      "name": "python3",
      "display_name": "Python 3"
    },
    "language_info": {
      "name": "python"
    }
  },
  "cells": [
    {
      "cell_type": "markdown",
      "source": [
        "# Theory Answers"
      ],
      "metadata": {
        "id": "vuZYOLjsssyZ"
      }
    },
    {
      "cell_type": "markdown",
      "source": [
        "**1. What are data structures and why are they important?**"
      ],
      "metadata": {
        "id": "vkKucji21FGJ"
      }
    },
    {
      "cell_type": "markdown",
      "source": [
        "-> Data structures are ways to organize and store data in a computer so that it can be used efficiently\n"
      ],
      "metadata": {
        "id": "nhtEwcQv1FC1"
      }
    },
    {
      "cell_type": "markdown",
      "source": [
        "Why are they important?\n",
        "\n",
        "They help programs store data properly\n",
        "\n",
        "Make it easier and faster to access, search, and modify data\n",
        "\n",
        "Without good data structures, programs would be slow and complicated\n",
        "\n",
        "They form the foundation for algorithms and solving real-world problems\n"
      ],
      "metadata": {
        "id": "XkUpzt3Z2Gyj"
      }
    },
    {
      "cell_type": "markdown",
      "source": [
        "**Q2. Explain the difference between mutable and immutable data types with examples?**"
      ],
      "metadata": {
        "id": "kdWbaNzM1E-F"
      }
    },
    {
      "cell_type": "markdown",
      "source": [
        "-> Mutable data types are those whose values can be changed after they are created. Immutable data types are those whose values cannot be changed once created"
      ],
      "metadata": {
        "id": "p-dCjnfc1EsI"
      }
    },
    {
      "cell_type": "code",
      "source": [
        "Example:\n",
        "\n",
        "\n",
        "# Mutable example\n",
        "my_list = [1, 2, 3]\n",
        "my_list[0] = 10\t# Works fine, list ke elements change ho sakte hain\n",
        "print(\"Mutable list after change:\", my_list) # Output: [10, 2, 3]\n",
        "\n",
        "# Immutable example\n",
        "my_str = \"hello\"\n",
        "try:\n",
        "my_str[0] = \"H\"\t# Error! Strings are immutable, element change nahi kar sakte\n",
        "except TypeError as e:\n",
        "print(\"Error:\", e)\n"
      ],
      "metadata": {
        "collapsed": true,
        "id": "1ZWjmpdB5MX5"
      },
      "execution_count": null,
      "outputs": []
    },
    {
      "cell_type": "markdown",
      "source": [
        "3**.What are the main differences between lists and tuples in Python ?**\n",
        "\n",
        "Difference bwtween List and tuple\n",
        "1.\tMutability:Lists are mutable whereas tuples are immutable.\n",
        "\n",
        "This means you can change, add, or remove elements in a list, but you cannot modify a tuple after it's created.\n",
        "2.\tSyntax: Lists use square brackets [ ], whereas tuples use parentheses ( ).\n",
        "\n",
        "This means you define a list like [1, 2, 3] and a tuple like (1, 2, 3).\n",
        "3.\tMethods Available: Lists have many built-in methods, whereas *tuples *have very few.\n",
        "\n",
        "This means you can modify a list using methods like append(), pop(), or sort(), but tuples only support count() and index().\n",
        "4.\tPerformance: Tuples are faster in performance than** lists**.\n",
        "\n",
        "This is because tuples are immutable and require less overhead, making them more efficient in fixed-size data operations.\n",
        "5.\tMemory Usage: Tuples use less memory than lists.\n",
        "\n",
        "Since tuples are fixed in size, they consume less memory than dynamic lists.\n",
        "6.\tUse Case: Lists are used when data can change, whereas tuples are used for fixed data.\n",
        "\n",
        "This means use lists for dynamic operations, and tuples when you want to protect data from modification.\n"
      ],
      "metadata": {
        "id": "pl73CLkeSsB8"
      }
    },
    {
      "cell_type": "markdown",
      "source": [
        "**Q4. Describe how dictionaries store data**.\n",
        "\n",
        "  A dictionary stores data as key-value pairs.\n",
        "\n",
        "  Each key is unique and is used to access its corresponding value.\n",
        "\n",
        "  Dictionaries are mutable, so you can add, update, or remove items.   \n",
        "  \n",
        "  Internally, dictionaries use a hash table for fast lookups.\n"
      ],
      "metadata": {
        "id": "YoYV2l7XIrsH"
      }
    },
    {
      "cell_type": "markdown",
      "source": [
        "**Q5. Why might you use a set instead of a list in Python?**\n",
        "\n",
        " Sets are collections of unique elements, they automatically remove duplicates.\n",
        "\n",
        "They are unordered, so elements don’t have a specific position.\n",
        "\n",
        "  Sets provide faster membership testing ( in operator) compared to lists.\n",
        "\n",
        "  Useful when you want to eliminate duplicates or perform mathematical operations like union, intersection, difference.\n"
      ],
      "metadata": {
        "id": "41ViDFDFIrpf"
      }
    },
    {
      "cell_type": "markdown",
      "source": [
        "**6.\tWhat is a string in Python, and how is it different from a list ?**\n",
        "\n",
        "String: A string is a sequence of characters. Python treats anything inside quotes as a string. This includes letters, numbers, and symbols. Python has no character data type so single character is a string of length 1.\n",
        "String different from list:\n",
        "\n",
        "1.\tData Type : A string stores only characters, while a list can store elements of any data type (numbers, strings, objects, etc.).\n",
        "2.\tMutability : Strings are immutable, whereas lists are mutable .\n",
        "\n",
        "3.\tElement Type : Strings can contain only characters, but lists can have mixed data types.\n",
        "4.\tModification : You cannot directly change a character in a string, but you can change, add, or remove elements in a list.\n",
        "5.\tOperations : Strings have text-specific methods (upper(), replace(), split()), while lists have collection- specific methods (append(), remove(), sort()).\n",
        "6.\tRepresentation : Strings are written inside quotes (' ', \" \"), while lists are written inside square brackets [ ].\n",
        "7.\tUsage : Strings are used for text data, while lists are used for storing a sequence of items.\n"
      ],
      "metadata": {
        "id": "uzmLbuiFIrmp"
      }
    },
    {
      "cell_type": "markdown",
      "source": [
        "**7.\tHow do tuples ensure data integrity in Python ?**\n",
        "\n",
        "Tuples ensure data integrity in Python mainly because they are immutable. Other reasons tuples ensure data integrity:\n",
        "1.\tPrevents accidental changes : Since tuples can’t be modified, your data stays exactly as it was when created.\n",
        "\n",
        "2.\tReliable as constants : Tuples can store fixed data (like configuration values) that must remain the same throughout the program.\n",
        "3.\tSafe for keys in dictionaries : Their immutability allows them to be used as dictionary keys or stored in sets without risk of being altered.\n",
        "4.\tPredictable behavior : No unexpected changes in tuple data make debugging and tracking logic easier.\n",
        "\n",
        "5.\tThread-safety : In multi-threaded programs, immutable data structures like tuples reduce the chance of data corruption from concurrent modifications.\n"
      ],
      "metadata": {
        "id": "EMW0m1dKTqL2"
      }
    },
    {
      "cell_type": "markdown",
      "source": [
        "**8.\tWhat is a hash table, and how does it relate to dictionaries in Python ?**\n",
        "\n",
        "A hash table is a data structure that stores key–value pairs and uses a hash function to map each key to a specific index (bucket) in memory.\n",
        "Relation of Hashtable to dictionaries :\n",
        "\n",
        "1.\tIn Python, a dictionary (dict) is implemented using a hash table.\n",
        "2.\tKeys in a dictionary are hashed internally, and their hash values decide where the corresponding values are stored in memory.\n",
        "3.\tOnly immutable and hashable objects can be used as dictionary keys.\n",
        "\n",
        "4.\tHash tables let dictionaries perform very fast lookups, even with large amounts of data.\n"
      ],
      "metadata": {
        "id": "mhouFo_VT4P7"
      }
    },
    {
      "cell_type": "code",
      "source": [
        "my_dict = {\"name\": \"Sakshi\", \"age\": 25}\n",
        "# \"name\" is hashed internally → value 25 stored at a memory bucket\n",
        "print(my_dict[\"name\"]) # Output: Sakshi\n"
      ],
      "metadata": {
        "colab": {
          "base_uri": "https://localhost:8080/"
        },
        "id": "B6NJl2nLUOMZ",
        "outputId": "fcdf445f-40aa-4840-cd8b-831eef7c85cb"
      },
      "execution_count": null,
      "outputs": [
        {
          "output_type": "stream",
          "name": "stdout",
          "text": [
            "Sakshi\n"
          ]
        }
      ]
    },
    {
      "cell_type": "markdown",
      "source": [
        "**Q9.\tCan lists contain different data types in Python ?**\n",
        "\n",
        "Yes, lists in Python can contain different data types in the same list.\n",
        "\n",
        "A list can hold integers, floats, strings, booleans, objects, even other lists — all mixed together.\n",
        "\n",
        "This is possible because Python lists are dynamic and store references to objects, not fixed-type elements.\n"
      ],
      "metadata": {
        "id": "yf5N34jDUHsm"
      }
    },
    {
      "cell_type": "markdown",
      "source": [
        "**Q10.Explain why strings are immutable in Python.**\n",
        "\n",
        "   Reasons String are immutable:\n",
        "\n",
        "  \n",
        "1.\tMemory efficiency : Immutability allows Python to reuse identical string objects (string interning), saving memory.\n",
        "\n",
        "2.\tHash consistency : Strings must stay unchanged so their hash value remains constant when used as dictionary or set keys.\n",
        "3.\tThread-safety : Because strings can’t be modified, they can be shared between threads without risk of corruption.\n",
        "4.\tPredictable behavior : Fixed, unchangeable strings prevent accidental changes, making code more reliable.\n",
        "\n",
        "5.\tPerformance optimization : Immutable strings can be stored and accessed in a way that speeds up certain operations.\n"
      ],
      "metadata": {
        "id": "us5GoKxcUv5f"
      }
    },
    {
      "cell_type": "markdown",
      "source": [
        "**Q11.\tWhat advantages do dictionaries offer over lists for certain tasks ?**\n",
        "\n",
        "Advantages do dictionaries offer over lists for certain tasks are:\n",
        "1.\tFaster lookups : Dictionaries provide average O(1) time complexity for accessing values by key, while lists take O(n) for searches.\n",
        "2.\tKey-based access : You can access data using meaningful keys instead of relying on numeric indexes.\n",
        "\n",
        "3.\tNo need for manual searching : Values are retrieved directly by key without iterating through the entire collection.\n",
        "4.\tUnordered but organized : Data is stored in a way that’s easy to manage when you care about associations rather than order.\n",
        "\n",
        "5.\tFlexible keys and values : Keys can be any immutable type (string, number, tuple), and values can be any data type.\n",
        "\n",
        "6.\tClear mapping of data : Perfect for storing real-world data with a clear “label → value” relationship.\n"
      ],
      "metadata": {
        "id": "2izC69OjVcL0"
      }
    },
    {
      "cell_type": "markdown",
      "source": [
        "**Q12.\tDescribe a scenario where using a tuple would be preferable over a list.**\n",
        "\n",
        "Scenario:\n",
        "\n",
        "Storing fixed GPS coordinates of a city in a program.\n",
        "\n",
        "\n"
      ],
      "metadata": {
        "id": "8t3pjbEKV8u8"
      }
    },
    {
      "cell_type": "code",
      "source": [
        "# Latitude and Longitude of New York\n",
        "new_york_coordinates = (40.7128, -74.0060)\n",
        "\n"
      ],
      "metadata": {
        "id": "28oBm8TvpVCA"
      },
      "execution_count": 1,
      "outputs": []
    },
    {
      "cell_type": "markdown",
      "source": [
        "Why tuple is preferable:\n",
        "1.\tThe coordinates should never change during the program’s execution → tuples are immutable, ensuring data integrity.\n",
        "\n",
        "2.\tTuples can be used as dictionary keys if you need to store location-based data (lists cannot be keys).\n",
        "3.\tSlightly faster than lists for access, making them efficient for fixed datasets"
      ],
      "metadata": {
        "id": "AeQtx_qEpfiA"
      }
    },
    {
      "cell_type": "markdown",
      "source": [
        "**Q13.\tHow do sets handle duplicate values in Python ?**\n",
        "\n",
        "Sets automatically remove duplicate values because they only store unique elements.\n",
        "\n",
        "When you try to add a duplicate to a set, Python ignores it silently.\n",
        "\n",
        "This is possible because sets use a hash table internally, where each element’s hash value must be unique.\n"
      ],
      "metadata": {
        "id": "7Gckqi5GpiFf"
      }
    },
    {
      "cell_type": "code",
      "source": [
        "#for example\n",
        "my_set = {1, 2, 3, 3, 4}\n",
        "print(my_set)"
      ],
      "metadata": {
        "colab": {
          "base_uri": "https://localhost:8080/"
        },
        "id": "G9vH5e-wp3pP",
        "outputId": "3576e4d1-a1b0-4fb6-9d2e-41894978ecb4"
      },
      "execution_count": 2,
      "outputs": [
        {
          "output_type": "stream",
          "name": "stdout",
          "text": [
            "{1, 2, 3, 4}\n"
          ]
        }
      ]
    },
    {
      "cell_type": "markdown",
      "source": [
        "**Q14.\tHow does the “in” keyword work differently for lists and dictionaries ?**\n",
        "\n",
        "The in keyword behaves differently for lists and dictionaries in Python:\n",
        "1.\tFor lists \"in\" checks if a value exists anywhere in the list.\n",
        "\n"
      ],
      "metadata": {
        "id": "yPo6QKYTp3Rx"
      }
    },
    {
      "cell_type": "code",
      "source": [
        "numbers = [1, 2, 3, 4]\n",
        "print(3 in numbers)\t#(checks values)\n",
        "print(5 in numbers)\n"
      ],
      "metadata": {
        "colab": {
          "base_uri": "https://localhost:8080/"
        },
        "id": "3pZcxRBzqapx",
        "outputId": "d1069f5d-a09a-4f7b-daad-df7e25a7f2f8"
      },
      "execution_count": 3,
      "outputs": [
        {
          "output_type": "stream",
          "name": "stdout",
          "text": [
            "True\n",
            "False\n"
          ]
        }
      ]
    },
    {
      "cell_type": "markdown",
      "source": [
        "2.\tFor dictionaries – in checks if a key exists in the dictionary (not the value)."
      ],
      "metadata": {
        "id": "8MZSN0dRqr6f"
      }
    },
    {
      "cell_type": "code",
      "source": [
        "person = {\"name\": \"Alice\", \"age\": 25}\n",
        "print(\"name\" in person)\t# checks keys\n",
        "print(\"Alice\" in person) # does not check values\n"
      ],
      "metadata": {
        "colab": {
          "base_uri": "https://localhost:8080/"
        },
        "id": "HJwajj3LqzY9",
        "outputId": "6d145bba-b83d-416a-922a-f93a84655d80"
      },
      "execution_count": 4,
      "outputs": [
        {
          "output_type": "stream",
          "name": "stdout",
          "text": [
            "True\n",
            "False\n"
          ]
        }
      ]
    },
    {
      "cell_type": "markdown",
      "source": [
        "**Q15.\tCan you modify the elements of a tuple? Explain why or why not .**\n",
        "\n",
        "No we cannot modify the elements of a tuple in Python. Reason:\n",
        "1.\tTuples are immutable, meaning once they are created, their elements cannot be changed, added, or removed.\n",
        "2.\tThis immutability ensures data integrity, allows tuples to be used as dictionary keys or stored in sets, and makes them more memory-efficient and thread-safe.\n"
      ],
      "metadata": {
        "id": "2JN2o9fpq61e"
      }
    },
    {
      "cell_type": "code",
      "source": [
        "t = (1, 2, 3)\n",
        "t[0] = 10 # TypeError: 'tuple' object does not support item assignment\n"
      ],
      "metadata": {
        "colab": {
          "base_uri": "https://localhost:8080/",
          "height": 159
        },
        "id": "kZAxvjFXrCpU",
        "outputId": "9d8843dc-33ad-4382-de54-e479eeeef8a3"
      },
      "execution_count": 5,
      "outputs": [
        {
          "output_type": "error",
          "ename": "TypeError",
          "evalue": "'tuple' object does not support item assignment",
          "traceback": [
            "\u001b[0;31m---------------------------------------------------------------------------\u001b[0m",
            "\u001b[0;31mTypeError\u001b[0m                                 Traceback (most recent call last)",
            "\u001b[0;32m/tmp/ipython-input-12674033.py\u001b[0m in \u001b[0;36m<cell line: 0>\u001b[0;34m()\u001b[0m\n\u001b[1;32m      1\u001b[0m \u001b[0mt\u001b[0m \u001b[0;34m=\u001b[0m \u001b[0;34m(\u001b[0m\u001b[0;36m1\u001b[0m\u001b[0;34m,\u001b[0m \u001b[0;36m2\u001b[0m\u001b[0;34m,\u001b[0m \u001b[0;36m3\u001b[0m\u001b[0;34m)\u001b[0m\u001b[0;34m\u001b[0m\u001b[0;34m\u001b[0m\u001b[0m\n\u001b[0;32m----> 2\u001b[0;31m \u001b[0mt\u001b[0m\u001b[0;34m[\u001b[0m\u001b[0;36m0\u001b[0m\u001b[0;34m]\u001b[0m \u001b[0;34m=\u001b[0m \u001b[0;36m10\u001b[0m \u001b[0;31m# TypeError: 'tuple' object does not support item assignment\u001b[0m\u001b[0;34m\u001b[0m\u001b[0;34m\u001b[0m\u001b[0m\n\u001b[0m",
            "\u001b[0;31mTypeError\u001b[0m: 'tuple' object does not support item assignment"
          ]
        }
      ]
    },
    {
      "cell_type": "markdown",
      "source": [
        "**Q16.\tWhat is a nested dictionary, and give an example of its use case ?**\n",
        "\n",
        "Nested Dictionary:\n",
        "\n",
        "1.\tA nested dictionary is a dictionary that contains another dictionary as one or more of its values.\n",
        "2.\tIt’s used to store hierarchical or structured data in a compact, organized way.\n"
      ],
      "metadata": {
        "id": "TiM1Wlb7rIXQ"
      }
    },
    {
      "cell_type": "code",
      "source": [
        "# Example of usecase students = {\n",
        "\"Alice\": {\"age\": 20, \"marks\": {\"Math\": 90, \"Science\": 85}},\n",
        "\"Bob\": {\"age\": 22, \"marks\": {\"Math\": 78, \"Science\": 88}}\n",
        "}\n",
        "\n",
        "# Access Bob's Science marks\n",
        "print(students[\"Bob\"][\"marks\"][\"Science\"])\n"
      ],
      "metadata": {
        "id": "mKiPkwUFraih"
      },
      "execution_count": null,
      "outputs": []
    },
    {
      "cell_type": "markdown",
      "source": [
        "**Q17.\tDescribe the time complexity of accessing elements in a dictionary.**\n",
        "\n",
        "Accessing elements in a dictionary in Python has:\n",
        "\n",
        "1.\tAverage case: O(1) : Constant time, because dictionaries use a hash table for key lookups.\n",
        "\n",
        "2.\tWorst case: O(n) : Happens rarely, only when many keys have the same hash value (hash collision) and Python has to search through them linearly.\n",
        "\n"
      ],
      "metadata": {
        "id": "rbt6mcp3rcIB"
      }
    },
    {
      "cell_type": "markdown",
      "source": [
        "**Q18.\tIn what situations are lists preferred over dictionaries ? **\n",
        "\n",
        "Situations where lists are preferred over dictionaries:\n",
        "\n",
        "1.\tOrder matters : When you need to preserve and work with the sequence of elements.\n",
        "\n",
        "2.\tNo key-value mapping needed : When you only care about storing values, not associating them with unique keys.\n",
        "\n",
        "3.\tAllow duplicates : When you need to store the same value multiple times.\n",
        "\n",
        "4.\tIndex-based access : When elements are best accessed by their position (index) rather than by a key.\n",
        "5.\tSmall datasets : For small collections where the speed benefit of a dictionary is negligible.\n",
        "\n",
        "6.\tIteration over values : When you want to loop through elements directly without worrying about keys.\n",
        "\n"
      ],
      "metadata": {
        "id": "R1Kdq8Otrg7n"
      }
    },
    {
      "cell_type": "markdown",
      "source": [
        "**Q19.\tWhy are dictionaries considered unordered, and how does that affect data retrieval ?**\n",
        "\n",
        "Dictionaries are considered unordered:\n",
        "1.\tBefore Python 3.7, dictionaries did not guarantee that elements would be stored or iterated in the order they were inserted.\n",
        "\n",
        "2.\tThis is because dictionaries are implemented using a hash table, where the storage location of each key-value pair depends on the key’s hash value, not its position.\n",
        "\n",
        "Effect on data retrieval\n",
        "\n",
        "1.\tKey-based retrieval is unaffected we can always access a value directly using its key in O(1) time, regardless of order.\n",
        "2.\tHowever, iteration order was unpredictable in older versions of Python, meaning looping over a dictionary could produce elements in any sequence.\n",
        "3.\tFrom Python 3.7+, insertion order is preserved as an implementation detail but retrieval by key is still independent of order.\n"
      ],
      "metadata": {
        "id": "ENin-r-grt8b"
      }
    },
    {
      "cell_type": "markdown",
      "source": [
        "**Q20.\tExplain the difference between a list and a dictionary in terms of data retrieval**.\n",
        "\n",
        "\n",
        "Difference between a list and a dictionary in terms of data retrieval:\n",
        "1.\tList : Retrieval is index-based\n",
        "\n",
        "We access elements using their position (0, 1, 2, …).\n",
        "\n",
        "Time complexity: O(1) for direct index access, but O(n) if you search for a value.\n",
        "\n"
      ],
      "metadata": {
        "id": "aTKdUGOEr2ex"
      }
    },
    {
      "cell_type": "code",
      "source": [
        "fruits = [\"apple\", \"banana\", \"cherry\"]\n",
        "print(fruits[1])"
      ],
      "metadata": {
        "colab": {
          "base_uri": "https://localhost:8080/"
        },
        "id": "_uHqnHaRsEnS",
        "outputId": "18bf68a9-77cb-4cf7-fcb8-d954b25c1cb4"
      },
      "execution_count": 7,
      "outputs": [
        {
          "output_type": "stream",
          "name": "stdout",
          "text": [
            "banana\n"
          ]
        }
      ]
    },
    {
      "cell_type": "markdown",
      "source": [
        "2.\tDictionary : Retrieval is key-based\n",
        "\n",
        "We access values using unique keys, not positions.\n",
        "\n",
        "Time complexity: O(1) on average because of hashing.\n"
      ],
      "metadata": {
        "id": "Fmjng3hhsJ3X"
      }
    },
    {
      "cell_type": "code",
      "source": [
        "person = {\"name\": \"Alice\", \"age\": 25}\n",
        "print(person[\"age\"])"
      ],
      "metadata": {
        "colab": {
          "base_uri": "https://localhost:8080/"
        },
        "id": "dGy6f54vsQ9T",
        "outputId": "11a38478-e4dc-4f0c-b8bc-43572809719d"
      },
      "execution_count": 8,
      "outputs": [
        {
          "output_type": "stream",
          "name": "stdout",
          "text": [
            "25\n"
          ]
        }
      ]
    },
    {
      "cell_type": "markdown",
      "source": [
        "# Practical Answers"
      ],
      "metadata": {
        "id": "LmTR3nhes2OB"
      }
    },
    {
      "cell_type": "code",
      "execution_count": null,
      "metadata": {
        "colab": {
          "base_uri": "https://localhost:8080/"
        },
        "id": "M4YeSCPI8Ipm",
        "outputId": "e23bd324-b47b-4114-d96e-48a74d6a0c59"
      },
      "outputs": [
        {
          "output_type": "stream",
          "name": "stdout",
          "text": [
            "akshay\n"
          ]
        }
      ],
      "source": [
        "#1. Write a code to create a string with your name and print it\n",
        "name = \"akshay\"\n",
        "print(name)"
      ]
    },
    {
      "cell_type": "code",
      "source": [
        "#2. Write a code to find a length of the string \"Hello World\"\n",
        "string = \"Hello World\"\n",
        "print(len(string))"
      ],
      "metadata": {
        "colab": {
          "base_uri": "https://localhost:8080/"
        },
        "id": "tRVQQnsP8q7b",
        "outputId": "6ad2d137-044d-4a4b-fa69-aafa3ba46de9"
      },
      "execution_count": null,
      "outputs": [
        {
          "output_type": "stream",
          "name": "stdout",
          "text": [
            "11\n"
          ]
        }
      ]
    },
    {
      "cell_type": "code",
      "source": [
        "#3. Write a code to slice the first 3 characters from the string \"Python Programing\".\n",
        "String = \"Python Programing\"\n",
        "print(String[0:3])"
      ],
      "metadata": {
        "colab": {
          "base_uri": "https://localhost:8080/"
        },
        "id": "m6U2WsLK88Ng",
        "outputId": "eb12ca72-ad08-44c9-ad17-2f89f76fd6e5"
      },
      "execution_count": null,
      "outputs": [
        {
          "output_type": "stream",
          "name": "stdout",
          "text": [
            "Pyt\n"
          ]
        }
      ]
    },
    {
      "cell_type": "code",
      "source": [
        "#4. Write a code to convert the string \"hello\" to uparcase\n",
        "String = \"hello\"\n",
        "string = String.upper()\n",
        "print(string)"
      ],
      "metadata": {
        "colab": {
          "base_uri": "https://localhost:8080/"
        },
        "id": "B60o4_dW9Wyf",
        "outputId": "ec5b0c97-de26-4f4c-83c8-a6b8efdfd898"
      },
      "execution_count": null,
      "outputs": [
        {
          "output_type": "stream",
          "name": "stdout",
          "text": [
            "HELLO\n"
          ]
        }
      ]
    },
    {
      "cell_type": "code",
      "source": [
        "#5. Write a code to replace the word \"apple\" with \"orange\" in the string \"I like apple\"\n",
        "text = \"I like apple\"\n",
        "text = text.replace(\"apple\",\"orange\")\n",
        "print(text)"
      ],
      "metadata": {
        "colab": {
          "base_uri": "https://localhost:8080/"
        },
        "id": "GWKVP5iy9x59",
        "outputId": "0131b1ac-1cc0-49e7-b02f-7a9ec8e611ab"
      },
      "execution_count": null,
      "outputs": [
        {
          "output_type": "stream",
          "name": "stdout",
          "text": [
            "I like orange\n"
          ]
        }
      ]
    },
    {
      "cell_type": "code",
      "source": [
        "#6.Write a code to create a list with numbers 1 to 5 and ptint it\n",
        "numbers = [1,2,3,4,5]\n",
        "print(numbers)"
      ],
      "metadata": {
        "colab": {
          "base_uri": "https://localhost:8080/"
        },
        "id": "smv_uw7xdzKw",
        "outputId": "cbe6c7dc-451a-4a96-a73f-bcddb0c8bf93"
      },
      "execution_count": null,
      "outputs": [
        {
          "output_type": "stream",
          "name": "stdout",
          "text": [
            "[1, 2, 3, 4, 5]\n"
          ]
        }
      ]
    },
    {
      "cell_type": "code",
      "source": [
        "#7. Write a code to append the numbe 10 to the list [1, 2, 3, 4]\n",
        "numbers = [1,2,3,4]\n",
        "numbers.append(10)\n",
        "print(numbers)"
      ],
      "metadata": {
        "colab": {
          "base_uri": "https://localhost:8080/"
        },
        "id": "Kc166y3OeS2G",
        "outputId": "65331253-58f5-4ce4-f879-1454232a7918"
      },
      "execution_count": null,
      "outputs": [
        {
          "output_type": "stream",
          "name": "stdout",
          "text": [
            "[1, 2, 3, 4, 10]\n"
          ]
        }
      ]
    },
    {
      "cell_type": "code",
      "source": [
        "#8. Write a code to remove the number 3 from the list [1, 2, 3, 4, 5]\n",
        "numbers = [1,2,3,4,5]\n",
        "numbers.remove(3)\n",
        "print(numbers)"
      ],
      "metadata": {
        "colab": {
          "base_uri": "https://localhost:8080/"
        },
        "id": "VIGiMsNPeuqU",
        "outputId": "2b2e2ed7-dda0-428f-f380-eff8127780ea"
      },
      "execution_count": null,
      "outputs": [
        {
          "output_type": "stream",
          "name": "stdout",
          "text": [
            "[1, 2, 4, 5]\n"
          ]
        }
      ]
    },
    {
      "cell_type": "code",
      "source": [
        "#9. Write a code to access the second element in the list [\"a\", \"b\", \"c\", \"d\"]\n",
        "letters = [\"a\",\"b\",\"c\",\"d\"]\n",
        "print(letters[1])"
      ],
      "metadata": {
        "colab": {
          "base_uri": "https://localhost:8080/"
        },
        "id": "BNzVrkqBfFOE",
        "outputId": "a4762b60-2a4f-4655-ad48-45429234f79f"
      },
      "execution_count": null,
      "outputs": [
        {
          "output_type": "stream",
          "name": "stdout",
          "text": [
            "b\n"
          ]
        }
      ]
    },
    {
      "cell_type": "code",
      "source": [
        "#10. Write a code to reverse the list [10, 20, 30, 40, 50].\n",
        "numbers = [10, 20, 30, 40, 50]\n",
        "numbers.reverse()\n",
        "print(numbers)"
      ],
      "metadata": {
        "colab": {
          "base_uri": "https://localhost:8080/"
        },
        "id": "x4hsubLbfiag",
        "outputId": "d6e46166-d2ed-49fd-acf2-27aac2707b9d"
      },
      "execution_count": null,
      "outputs": [
        {
          "output_type": "stream",
          "name": "stdout",
          "text": [
            "[50, 40, 30, 20, 10]\n"
          ]
        }
      ]
    },
    {
      "cell_type": "code",
      "source": [
        "#11. Write a code to create a tuple with the elements 100, 200, 300 and print it.\n",
        "my_tuple = (100,200,300)\n",
        "print(my_tuple)"
      ],
      "metadata": {
        "colab": {
          "base_uri": "https://localhost:8080/"
        },
        "id": "7ed62zXbgBAd",
        "outputId": "b612f98b-453b-4edb-958f-4b12c51e5b5e"
      },
      "execution_count": null,
      "outputs": [
        {
          "output_type": "stream",
          "name": "stdout",
          "text": [
            "(100, 200, 300)\n"
          ]
        }
      ]
    },
    {
      "cell_type": "code",
      "source": [
        "#12. Write a code to access the second-to-last element of the tuple (\"red\", \"green\",\"blue\", \"yellow\")\n",
        "colors = (\"red\", \"green\",\"blue\", \"yellow\")\n",
        "print(colors[1:])"
      ],
      "metadata": {
        "colab": {
          "base_uri": "https://localhost:8080/"
        },
        "id": "CmgLfzH5gb7S",
        "outputId": "e5f684a3-6dc2-4aa8-a4ba-0d4c4aad8a05"
      },
      "execution_count": null,
      "outputs": [
        {
          "output_type": "stream",
          "name": "stdout",
          "text": [
            "('green', 'blue', 'yellow')\n"
          ]
        }
      ]
    },
    {
      "cell_type": "code",
      "source": [
        "#13. Write a code to find the minimum number in the tuple (10, 20, 5, 15)\n",
        "numbers = (10, 20, 5, 15)\n",
        "print(min(numbers))"
      ],
      "metadata": {
        "colab": {
          "base_uri": "https://localhost:8080/"
        },
        "id": "PIaRq68ciJI2",
        "outputId": "5a6e5b92-f7d4-4cdf-f9ff-024c9c5bbe26"
      },
      "execution_count": null,
      "outputs": [
        {
          "output_type": "stream",
          "name": "stdout",
          "text": [
            "5\n"
          ]
        }
      ]
    },
    {
      "cell_type": "code",
      "source": [
        "#14. Write a code to find the index of the element \"cat\" in the tuple (\"dog\", \"cat\", \"rabbit\")\n",
        "animals = (\"dog\", \"cat\", \"rabbit\")\n",
        "print(animals.index(\"cat\"))"
      ],
      "metadata": {
        "colab": {
          "base_uri": "https://localhost:8080/"
        },
        "id": "uWoxkl9EirfF",
        "outputId": "3b5a3ea2-47ba-48e2-a48d-59dd7cae3d10"
      },
      "execution_count": null,
      "outputs": [
        {
          "output_type": "stream",
          "name": "stdout",
          "text": [
            "1\n"
          ]
        }
      ]
    },
    {
      "cell_type": "code",
      "source": [
        "#15. Write a to create a tuple containing three different fruits and check if \"kiwi\" is in it.\n",
        "fruits = (\"apple\", \"banana\", \"kiwi\")\n",
        "print(\"kiwi\" in fruits)"
      ],
      "metadata": {
        "id": "8QHgN3PSjSCs",
        "colab": {
          "base_uri": "https://localhost:8080/"
        },
        "outputId": "b9fe1944-593c-47aa-951c-182cf34a8819"
      },
      "execution_count": null,
      "outputs": [
        {
          "output_type": "stream",
          "name": "stdout",
          "text": [
            "True\n"
          ]
        }
      ]
    },
    {
      "cell_type": "code",
      "source": [
        "#16.Write a code to create a set with the elements 'a', 'b', 'c' and print it.\n",
        "my_set = {'a', 'b', 'c'}\n",
        "print(my_set)"
      ],
      "metadata": {
        "colab": {
          "base_uri": "https://localhost:8080/"
        },
        "id": "RNl3Ec8wnbix",
        "outputId": "65079c52-536a-4f4e-942d-2000b6ea2a08"
      },
      "execution_count": null,
      "outputs": [
        {
          "output_type": "stream",
          "name": "stdout",
          "text": [
            "{'c', 'b', 'a'}\n"
          ]
        }
      ]
    },
    {
      "cell_type": "code",
      "source": [
        "#17. Write a code to clear all elements from the set {1, 2, 3, 4, 5}.\n",
        "my_set = {1, 2, 3, 4, 5}\n",
        "my_set.clear()\n",
        "print(my_set)"
      ],
      "metadata": {
        "colab": {
          "base_uri": "https://localhost:8080/"
        },
        "id": "9bPEskgXn674",
        "outputId": "187301b4-1f97-4d0a-f2d9-5b1d75fb91ad"
      },
      "execution_count": null,
      "outputs": [
        {
          "output_type": "stream",
          "name": "stdout",
          "text": [
            "set()\n"
          ]
        }
      ]
    },
    {
      "cell_type": "code",
      "source": [
        "#18. Write a code to remove the element 4 from the set {1, 2, 3, 4}.\n",
        "my_set = {1, 2, 3, 4}\n",
        "my_set.remove(4)\n",
        "print(my_set)"
      ],
      "metadata": {
        "colab": {
          "base_uri": "https://localhost:8080/"
        },
        "id": "dI3-4LdGoYdw",
        "outputId": "7147c939-d491-4120-8838-c122f3db97e8"
      },
      "execution_count": null,
      "outputs": [
        {
          "output_type": "stream",
          "name": "stdout",
          "text": [
            "{1, 2, 3}\n"
          ]
        }
      ]
    },
    {
      "cell_type": "code",
      "source": [
        "#19. Write a code to find the union of two sets {1, 2, 3} and {3, 4, 5}.\n",
        "set1 = {1, 2, 3}\n",
        "set2 = {3, 4, 5}\n",
        "result = set1.union(set2)\n",
        "print(result)"
      ],
      "metadata": {
        "colab": {
          "base_uri": "https://localhost:8080/"
        },
        "id": "tjxTCTq2paM-",
        "outputId": "5f5718d8-b019-40c4-f73b-8dc93a9e83a8"
      },
      "execution_count": null,
      "outputs": [
        {
          "output_type": "stream",
          "name": "stdout",
          "text": [
            "{1, 2, 3, 4, 5}\n"
          ]
        }
      ]
    },
    {
      "cell_type": "code",
      "source": [
        "#20. Write a code to find the intersection of two sets {1, 2, 3} and {2, 3, 4}.\n",
        "set1 = {1, 2, 3}\n",
        "set2 = {2, 3, 4}\n",
        "result = set1.intersection(set2)\n",
        "print(result)"
      ],
      "metadata": {
        "colab": {
          "base_uri": "https://localhost:8080/"
        },
        "id": "D7QsRGMIpxOU",
        "outputId": "a297c6c8-dc86-4694-ea51-32d1c23a39e8"
      },
      "execution_count": null,
      "outputs": [
        {
          "output_type": "stream",
          "name": "stdout",
          "text": [
            "{2, 3}\n"
          ]
        }
      ]
    },
    {
      "cell_type": "code",
      "source": [
        "#21. Write a code to create a dictionary with the keys \"name\", \"age\", and \"city\", and print it.\n",
        "my_dict = {\n",
        "    \"name\": \"akshay\",\n",
        "    \"age\": 22,\n",
        "    \"city\": \"kolhapur, MAHARASHTRA\"\n",
        "}\n",
        "print(my_dict)"
      ],
      "metadata": {
        "colab": {
          "base_uri": "https://localhost:8080/"
        },
        "id": "SupvZqujqPJK",
        "outputId": "a8b6befe-16f1-4b8e-c18b-ecbfc2510b40"
      },
      "execution_count": null,
      "outputs": [
        {
          "output_type": "stream",
          "name": "stdout",
          "text": [
            "{'name': 'akshay', 'age': 22, 'city': 'kolhapur, MAHARASHTRA'}\n"
          ]
        }
      ]
    },
    {
      "cell_type": "code",
      "source": [
        "#22. Write a code to add a new key-value pair \"country\": \"USA\" to the dictionary {'name': 'John', 'age': 25}.\n",
        "person = {'name': 'John', 'age': 25}\n",
        "person['country'] = 'USA'\n",
        "print(person)"
      ],
      "metadata": {
        "colab": {
          "base_uri": "https://localhost:8080/"
        },
        "id": "SAFgl5d5rVGz",
        "outputId": "101a7788-f63c-4be7-b195-8ab5faf969cc"
      },
      "execution_count": null,
      "outputs": [
        {
          "output_type": "stream",
          "name": "stdout",
          "text": [
            "{'name': 'John', 'age': 25, 'country': 'USA'}\n"
          ]
        }
      ]
    },
    {
      "cell_type": "code",
      "source": [
        "#23. Write a code to access the value associated with the key \"name\" in the dictionary {'name': 'Alice', 'age': 30}.\n",
        "person = {'name': 'Alice', 'age': 30}\n",
        "print(person['name'])"
      ],
      "metadata": {
        "colab": {
          "base_uri": "https://localhost:8080/"
        },
        "id": "ZEjSQ3jAsTTf",
        "outputId": "08481798-e8b7-4737-ccc3-28e283d3a18d"
      },
      "execution_count": null,
      "outputs": [
        {
          "output_type": "stream",
          "name": "stdout",
          "text": [
            "Alice\n"
          ]
        }
      ]
    },
    {
      "cell_type": "code",
      "source": [
        "#24. Write a code to remove the key \"age\" from the dictionary {'name': 'Bob', 'age': 22, 'city': 'New York'}.\n",
        "person = {'name': 'Bob', 'age': 22, 'city': 'New York'}\n",
        "del person['age']\n",
        "print(person)"
      ],
      "metadata": {
        "colab": {
          "base_uri": "https://localhost:8080/"
        },
        "id": "6vH4SRc-tHfb",
        "outputId": "a2a33dbb-7350-4123-8492-a296c2510238"
      },
      "execution_count": null,
      "outputs": [
        {
          "output_type": "stream",
          "name": "stdout",
          "text": [
            "{'name': 'Bob', 'city': 'New York'}\n"
          ]
        }
      ]
    },
    {
      "cell_type": "code",
      "source": [
        "#25. Write a code to check if the key \"city\" exists in the dictionary {'name': 'Alice', 'city': 'Paris'}.\n",
        "person = {'name': 'Alice', 'city': 'Paris'}\n",
        "print('city' in person)"
      ],
      "metadata": {
        "colab": {
          "base_uri": "https://localhost:8080/"
        },
        "id": "jTYOWPoHthWZ",
        "outputId": "74691910-a3f7-4f0f-ba1e-24ed06d617b6"
      },
      "execution_count": null,
      "outputs": [
        {
          "output_type": "stream",
          "name": "stdout",
          "text": [
            "True\n"
          ]
        }
      ]
    },
    {
      "cell_type": "code",
      "source": [
        "#26.Write a code to create a list, a tuple, and a dictionary, and print them all.\n",
        "# Creating a list\n",
        "my_list = [1, 2, 3, 4, 5]\n",
        "\n",
        "# Creating a tuple\n",
        "my_tuple = ('a', 'b', 'c', 'd')\n",
        "\n",
        "# Creating a dictionary\n",
        "my_dict = {'name': 'Alice', 'age': 30, 'city': 'New York'}\n",
        "\n",
        "# Printing all of them\n",
        "print(\"List:\", my_list)\n",
        "print(\"Tuple:\", my_tuple)\n",
        "print(\"Dictionary:\", my_dict)\n"
      ],
      "metadata": {
        "colab": {
          "base_uri": "https://localhost:8080/"
        },
        "id": "lY2dr12fvJIW",
        "outputId": "a2711ece-479a-41ff-ada2-ee49db6d4a98"
      },
      "execution_count": null,
      "outputs": [
        {
          "output_type": "stream",
          "name": "stdout",
          "text": [
            "List: [1, 2, 3, 4, 5]\n",
            "Tuple: ('a', 'b', 'c', 'd')\n",
            "Dictionary: {'name': 'Alice', 'age': 30, 'city': 'New York'}\n"
          ]
        }
      ]
    },
    {
      "cell_type": "code",
      "source": [
        "#27. Write a code to create a list of 5 random numbers between 1 and 100, sort it in ascending order, and print the result.(replaced)\n",
        "import random\n",
        "\n",
        "# Generate a list of 5 random numbers between 1 and 100\n",
        "random_numbers = [random.randint(1, 100) for _ in range(5)]\n",
        "\n",
        "# Sort the list in ascending order\n",
        "random_numbers.sort()\n",
        "\n",
        "# Print the sorted list\n",
        "print(\"Sorted random numbers:\", random_numbers)\n",
        "\n"
      ],
      "metadata": {
        "colab": {
          "base_uri": "https://localhost:8080/"
        },
        "id": "p54oMLqYxuSC",
        "outputId": "d31b8c64-5d39-44ae-e3fc-ded1b2d0dfed"
      },
      "execution_count": null,
      "outputs": [
        {
          "output_type": "stream",
          "name": "stdout",
          "text": [
            "Sorted random numbers: [2, 29, 45, 45, 76]\n"
          ]
        }
      ]
    },
    {
      "cell_type": "code",
      "source": [
        "#28. Write a code to create a list with strings and print the element at the third index.\n",
        "fruits = [\"apple\", \"banana\", \"cherry\", \"date\", \"elderberry\"]\n",
        "print(fruits[3])"
      ],
      "metadata": {
        "colab": {
          "base_uri": "https://localhost:8080/"
        },
        "id": "HfkD-u5Lyh6-",
        "outputId": "c6222098-4c77-4d74-a695-ae842e920200"
      },
      "execution_count": null,
      "outputs": [
        {
          "output_type": "stream",
          "name": "stdout",
          "text": [
            "date\n"
          ]
        }
      ]
    },
    {
      "cell_type": "code",
      "source": [
        "#29. Write a code to combine two dictionaries into one and print the result.\n",
        "dict1 = {\"a\": 1, \"b\": 2}\n",
        "dict2 = {\"c\": 3, \"d\": 4}\n",
        "#Merge dict2 into dict1\n",
        "dict1.update(dict2)\n",
        "print(dict1)"
      ],
      "metadata": {
        "colab": {
          "base_uri": "https://localhost:8080/"
        },
        "id": "hC6jc4CkzYSe",
        "outputId": "3f21189d-e570-49bb-bb4a-ed5b32514727"
      },
      "execution_count": null,
      "outputs": [
        {
          "output_type": "stream",
          "name": "stdout",
          "text": [
            "{'a': 1, 'b': 2, 'c': 3, 'd': 4}\n"
          ]
        }
      ]
    },
    {
      "cell_type": "code",
      "source": [
        "#30. Write a code to convert a list of strings into a set.\n",
        "# Define a list of strings\n",
        "string_list = [\"apple\", \"banana\", \"cherry\", \"apple\", \"banana\"]\n",
        "\n",
        "# Convert the list to a set\n",
        "string_set = set(string_list)\n",
        "\n",
        "# Print the result\n",
        "print(\"Set of strings:\", string_set)\n"
      ],
      "metadata": {
        "colab": {
          "base_uri": "https://localhost:8080/"
        },
        "id": "PrcG7TIE0FQl",
        "outputId": "7b22d387-ea5a-4e88-8edc-8fa945fcb588"
      },
      "execution_count": null,
      "outputs": [
        {
          "output_type": "stream",
          "name": "stdout",
          "text": [
            "Set of strings: {'banana', 'cherry', 'apple'}\n"
          ]
        }
      ]
    },
    {
      "cell_type": "code",
      "source": [],
      "metadata": {
        "id": "mXC3efKj0qMJ"
      },
      "execution_count": null,
      "outputs": []
    }
  ]
}